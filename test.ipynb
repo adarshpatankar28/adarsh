{
  "nbformat": 4,
  "nbformat_minor": 0,
  "metadata": {
    "colab": {
      "name": "Untitled0.ipynb",
      "provenance": [],
      "mount_file_id": "1iSnN7o_COi1D1fCL_PwBoPIEN_dCrn1U",
      "authorship_tag": "ABX9TyNvWUT0x3HFMI6J0g2ur5S3"
    },
    "kernelspec": {
      "name": "python3",
      "display_name": "Python 3"
    },
    "accelerator": "GPU"
  },
  "cells": [
    {
      "cell_type": "code",
      "metadata": {
        "id": "YeESSnvvo7mJ",
        "colab_type": "code",
        "outputId": "7af0cd58-eb90-4911-f121-5e8b91805d31",
        "colab": {
          "base_uri": "https://localhost:8080/",
          "height": 34
        }
      },
      "source": [
        "from google.colab import drive\n",
        "drive.mount('/content/drive')"
      ],
      "execution_count": 1,
      "outputs": [
        {
          "output_type": "stream",
          "text": [
            "Drive already mounted at /content/drive; to attempt to forcibly remount, call drive.mount(\"/content/drive\", force_remount=True).\n"
          ],
          "name": "stdout"
        }
      ]
    },
    {
      "cell_type": "code",
      "metadata": {
        "id": "hthX1tPQpPFO",
        "colab_type": "code",
        "colab": {}
      },
      "source": [
        "!cp -r \"/content/drive/My Drive/DLP\" \"/content/\""
      ],
      "execution_count": 0,
      "outputs": []
    },
    {
      "cell_type": "code",
      "metadata": {
        "id": "12pf3xzRqYPy",
        "colab_type": "code",
        "colab": {}
      },
      "source": [
        "import sys\n",
        "sys.path.append('/content/DLP/test_code_for_submit/')"
      ],
      "execution_count": 0,
      "outputs": []
    },
    {
      "cell_type": "code",
      "metadata": {
        "id": "GoF1d77wprb_",
        "colab_type": "code",
        "colab": {}
      },
      "source": [
        "import numpy as np\n",
        "import cv2\n",
        "import torch\n",
        "from models.DenoisingModels import *\n",
        "from utils.utils import *\n",
        "from utils.transforms import *\n",
        "import scipy.io as sio\n",
        "import time\n",
        "import tqdm"
      ],
      "execution_count": 0,
      "outputs": []
    },
    {
      "cell_type": "code",
      "metadata": {
        "id": "k355wcQrpmWS",
        "colab_type": "code",
        "colab": {
          "base_uri": "https://localhost:8080/",
          "height": 188
        },
        "outputId": "56494243-7854-4633-8e21-314e1489e8d6"
      },
      "source": [
        "\n",
        "if __name__ == '__main__':\n",
        "\n",
        "    print('********************Test code for NTIRE challenge******************')\n",
        "\n",
        "    # path of input .mat file\n",
        "    mat_dir = '/content/DLP/test_code_for_submit/mats/BenchmarkNoisyBlocksRaw.mat'\n",
        "\n",
        "    # Read .mat file\n",
        "    mat_file = sio.loadmat(mat_dir)\n",
        "\n",
        "    # get input numpy\n",
        "    noisyblock = mat_file['BenchmarkNoisyBlocksRaw']\n",
        "    \n",
        "    print('input shape', noisyblock.shape)\n",
        "\n",
        "    # path of saved pkl file of model\n",
        "    modelpath = '/content/DLP/test_code_for_submit/checkpoints/DGU-3DMlab1_track1.pkl'\n",
        "    expname = 'DGU-3DMlab1_track1'\n",
        "\n",
        "    # set gpu\n",
        "    device = torch.device('cuda:0')\n",
        "\n",
        "    # make network object\n",
        "    model = Generator_one2many_gd_rir_old(input_channel=1, numforrg=4, numofrdb=16, numofconv=8, numoffilters=67).to(device)\n",
        "\n",
        "    # make numpy of output with same shape of input\n",
        "    resultNP = np.ones(noisyblock.shape)\n",
        "    print('resultNP.shape', resultNP.shape)\n",
        "\n",
        "    submitpath = f'results_folder/{expname}'\n",
        "    make_dirs(submitpath)\n",
        "\n",
        "    # load checkpoint of the model\n",
        "    checkpoint = torch.load(modelpath)\n",
        "    model.load_state_dict(checkpoint['state_dict'])\n",
        "\n",
        "    transform = ToTensor()\n",
        "    revtransform = ToImage()\n",
        "\n",
        "    # pass inputs through model and get outputs\n",
        "    with torch.no_grad():\n",
        "        model.eval()\n",
        "        starttime = time.time()     # check when model starts to process\n",
        "        for imgidx in tqdm.tqdm(range(noisyblock.shape[0])):\n",
        "            for patchidx in range(noisyblock.shape[1]):\n",
        "                img = noisyblock[imgidx][patchidx]   # img shape (256, 256, 3)\n",
        "\n",
        "                input = transform(img).float()\n",
        "                input = input.view(1, -1, input.shape[1], input.shape[2]).to(device)\n",
        "\n",
        "                output = model(input)       # pass input through model\n",
        "\n",
        "                outimg = revtransform(output)   # transform output tensor to numpy\n",
        "\n",
        "                # put output patch into result numpy\n",
        "                resultNP[imgidx][patchidx] = outimg\n",
        "\n",
        "    # check time after finishing task for all input patches\n",
        "    endtime = time.time()\n",
        "    elapsedTime = endtime - starttime   # calculate elapsed time\n",
        "    print('ended', elapsedTime)\n",
        "    num_of_pixels = noisyblock.shape[0] * noisyblock.shape[1] * noisyblock.shape[2] * noisyblock.shape[3]\n",
        "    print('number of pixels', num_of_pixels)\n",
        "    runtime_per_mega_pixels = (num_of_pixels / 1000000) / elapsedTime\n",
        "    print('Runtime per mega pixel', runtime_per_mega_pixels)\n",
        "\n",
        "    # save result numpy as .mat file\n",
        "    sio.savemat(f'{submitpath}/{expname}', dict([('results', resultNP)]))\n"
      ],
      "execution_count": 5,
      "outputs": [
        {
          "output_type": "stream",
          "text": [
            "********************Test code for NTIRE challenge******************\n",
            "input shape (40, 32, 256, 256)\n",
            "resultNP.shape (40, 32, 256, 256)\n"
          ],
          "name": "stdout"
        },
        {
          "output_type": "stream",
          "text": [
            "\r  0%|          | 0/40 [00:00<?, ?it/s]/usr/local/lib/python3.6/dist-packages/torch/nn/functional.py:1351: UserWarning: nn.functional.sigmoid is deprecated. Use torch.sigmoid instead.\n",
            "  warnings.warn(\"nn.functional.sigmoid is deprecated. Use torch.sigmoid instead.\")\n",
            "100%|██████████| 40/40 [05:09<00:00,  7.74s/it]\n"
          ],
          "name": "stderr"
        },
        {
          "output_type": "stream",
          "text": [
            "ended 309.6506772041321\n",
            "number of pixels 83886080\n",
            "Runtime per mega pixel 0.2709055273426691\n"
          ],
          "name": "stdout"
        }
      ]
    },
    {
      "cell_type": "code",
      "metadata": {
        "id": "RKtDJ4vXtF00",
        "colab_type": "code",
        "colab": {}
      },
      "source": [
        "!cp -r \"/content/results_folder\" \"/content/drive/My Drive/DLP/\""
      ],
      "execution_count": 0,
      "outputs": []
    }
  ]
}